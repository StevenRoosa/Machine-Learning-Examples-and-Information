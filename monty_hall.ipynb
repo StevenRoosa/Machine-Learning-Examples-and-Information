{
 "cells": [
  {
   "cell_type": "markdown",
   "metadata": {
    "collapsed": true
   },
   "source": [
    "# Monty Hall Class\n",
    "Click cell below to import class\n",
    "Class consists of the key game events, including\n",
    "  -random assignment of prize door\n",
    "  -random selection of a door by contestant\n",
    "  -the host revealing one of the two doors not picked by the contestant\n",
    "  -the contestant's option of switching door's, post reveal"
   ]
  },
  {
   "cell_type": "code",
   "execution_count": 1,
   "metadata": {
    "collapsed": true
   },
   "outputs": [],
   "source": [
    "from random import randint\n",
    "class Game:\n",
    "    def __init__(self):\n",
    "        self.tesla_door = 0\n",
    "        self.contestant_pick = 0\n",
    "        self.not_contestants_doors = []\n",
    "        self.revealed_door = 0\n",
    "        self.other_door = 0\n",
    "    def door_assignment(self):\n",
    "        self.tesla_door = randint(1, 3)\n",
    "    def contestant_choose(self):\n",
    "        self.contestant_pick = randint(1, 3)\n",
    "        y = 1\n",
    "        while y <= 3:\n",
    "            if y != self.contestant_pick:\n",
    "                self.not_contestants_doors.append(y)\n",
    "            y = y + 1\n",
    "    def host_reveal(self):\n",
    "        for x in self.not_contestants_doors:\n",
    "            if x != self.tesla_door:\n",
    "                self.revealed_door = x\n",
    "        for x in self.not_contestants_doors:\n",
    "            if x != self.revealed_door:\n",
    "                self.other_door = x\n",
    "    def contestant_switch(self):\n",
    "        self.contestant_pick = self.other_door\n"
   ]
  },
  {
   "cell_type": "markdown",
   "metadata": {},
   "source": [
    "# Run Multiple Game Simulations, Record Wins and Losses\n",
    "If you wish to run WITHOUT the contestant switching doors, comment out line as noted\n",
    "Select number of simulations by changing number in the \"while loop\" as noted"
   ]
  },
  {
   "cell_type": "code",
   "execution_count": 2,
   "metadata": {
    "collapsed": false
   },
   "outputs": [
    {
     "name": "stdout",
     "output_type": "stream",
     "text": [
      "wins   =  675\n",
      "losses =  326\n"
     ]
    }
   ],
   "source": [
    "game = Game()\n",
    "q = 0\n",
    "wins = 0\n",
    "losses = 0\n",
    "## Change Number of Simulations by Changing Number Below\n",
    "while q <= 1000:\n",
    "    game.tesla_door = 0\n",
    "    game.contestant_pick = 0\n",
    "    game.not_contestants_doors = []\n",
    "    game.revealed_door = 0\n",
    "    game.other_door = 0\n",
    "    game.door_assignment()\n",
    "    game.contestant_choose()\n",
    "    game.host_reveal()\n",
    "    ## Comment out single line below to run WITHOUT contestant switching doors\n",
    "    game.contestant_switch() \n",
    "    if game.contestant_pick != game.tesla_door:\n",
    "        losses = losses + 1\n",
    "    if game.contestant_pick == game.tesla_door:\n",
    "        wins = wins + 1\n",
    "    q = q + 1\n",
    "print('wins   = ', wins)\n",
    "print('losses = ', losses)"
   ]
  },
  {
   "cell_type": "code",
   "execution_count": null,
   "metadata": {
    "collapsed": true
   },
   "outputs": [],
   "source": []
  }
 ],
 "metadata": {
  "anaconda-cloud": {},
  "kernelspec": {
   "display_name": "Python [Root]",
   "language": "python",
   "name": "Python [Root]"
  },
  "language_info": {
   "codemirror_mode": {
    "name": "ipython",
    "version": 3
   },
   "file_extension": ".py",
   "mimetype": "text/x-python",
   "name": "python",
   "nbconvert_exporter": "python",
   "pygments_lexer": "ipython3",
   "version": "3.5.2"
  }
 },
 "nbformat": 4,
 "nbformat_minor": 0
}
